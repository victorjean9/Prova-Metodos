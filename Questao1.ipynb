{
 "cells": [
  {
   "cell_type": "markdown",
   "metadata": {},
   "source": [
    "# Questão 1"
   ]
  },
  {
   "cell_type": "markdown",
   "metadata": {},
   "source": [
    "## Ache o zero da função $f(x) = xlog_{10}(x) - 1$, utilizando apenas quatro interações para cada um dos métodos abaixo. Após obter o valor aproximado, compare o erro entre os métodos e indique qual método obteve o melhor resultado. Justifique a resposta."
   ]
  },
  {
   "cell_type": "code",
   "execution_count": 80,
   "metadata": {},
   "outputs": [],
   "source": [
    "import numpy as np\n",
    "import math"
   ]
  },
  {
   "cell_type": "markdown",
   "metadata": {},
   "source": [
    "### Função $f(x)$"
   ]
  },
  {
   "cell_type": "code",
   "execution_count": 81,
   "metadata": {},
   "outputs": [],
   "source": [
    "def funcao(x):\n",
    "  return x*math.log(x)-1"
   ]
  },
  {
   "cell_type": "markdown",
   "metadata": {},
   "source": [
    "### Função para calcular a derivada de $f(x)$"
   ]
  },
  {
   "cell_type": "code",
   "execution_count": 82,
   "metadata": {},
   "outputs": [],
   "source": [
    "def funcaoLinha(x):\n",
    "  return math.log(x)+1"
   ]
  },
  {
   "cell_type": "markdown",
   "metadata": {},
   "source": [
    "### Cálculo do zero da função usando o método da Bisseção"
   ]
  },
  {
   "cell_type": "code",
   "execution_count": 93,
   "metadata": {},
   "outputs": [],
   "source": [
    "def bissecao(a, b, iteracoes):\n",
    "  iteracao = 0\n",
    "  x = a\n",
    "\n",
    "  while(iteracao < iteracoes):\n",
    "    aux = x\n",
    "    x = (a+b)/2\n",
    "    nRelativo = (x - aux)/x\n",
    "    erro = np.abs(nRelativo) # Cálculo do erro relativo\n",
    "\n",
    "    if (funcao(a)*funcao(x) < 0):\n",
    "      b = x\n",
    "    else:\n",
    "      a = x\n",
    "\n",
    "    iteracao = iteracao + 1\n",
    "    \n",
    "  return (x, erro)"
   ]
  },
  {
   "cell_type": "markdown",
   "metadata": {},
   "source": [
    "### Cálculo do zero da função usando o método da falsa posição"
   ]
  },
  {
   "cell_type": "code",
   "execution_count": 94,
   "metadata": {},
   "outputs": [],
   "source": [
    "def falsaPosicao(a, b, iteracoes):\n",
    "  iteracao = 0\n",
    "  x = a\n",
    "\n",
    "  while(iteracao < iteracoes):\n",
    "    aux = x\n",
    "    x = a - funcao(a)*(b-a)/(funcao(b)-funcao(a))\n",
    "\n",
    "    nRelativo = (x - aux)/x\n",
    "    erro = np.abs(nRelativo) #calculo do erro relativo\n",
    "\n",
    "    if (funcao(a)*funcao(x) < 0):\n",
    "      b = x\n",
    "    else:\n",
    "      a = x\n",
    "\n",
    "    iteracao = iteracao + 1\n",
    "\n",
    "  return (x, erro)"
   ]
  },
  {
   "cell_type": "markdown",
   "metadata": {},
   "source": [
    "### Cálculo do zero da função usando o método de Newton Raphson"
   ]
  },
  {
   "cell_type": "code",
   "execution_count": 95,
   "metadata": {},
   "outputs": [],
   "source": [
    "def newtonRaphson(x0, iteracoes):\n",
    "  iteracao = 0\n",
    "\n",
    "  while(iteracao < iteracoes):   \n",
    "    temp = x0 \n",
    "    aux = x0 - funcao(x0)/funcaoLinha(x0)\n",
    "    x0 = aux\n",
    "\n",
    "    erro = np.abs((x0 - temp)/x0) #calculo do erro relativo\n",
    "\n",
    "    iteracao = iteracao + 1\n",
    "    \n",
    "  return (x0, erro)"
   ]
  },
  {
   "cell_type": "markdown",
   "metadata": {},
   "source": [
    "### Cálculo do zero da função usando o método da secante"
   ]
  },
  {
   "cell_type": "code",
   "execution_count": 96,
   "metadata": {},
   "outputs": [],
   "source": [
    "def secante(x0, x1, iteracoes):\n",
    "  iteracao = 0\n",
    "  aux1 = x0\n",
    "  x = x1\n",
    "  \n",
    "  while(iteracao < iteracoes):\n",
    "    aux2 = aux1\n",
    "    aux1 = x\n",
    "    x = aux1 - funcao(aux1)*(aux2 - aux1)/(funcao(aux2) - funcao(aux1))\n",
    "    erro = np.abs((x - aux1)/x) #calculo do erro relativo\n",
    "    \n",
    "    iteracao = iteracao + 1\n",
    "\n",
    "  return (x, erro)"
   ]
  },
  {
   "cell_type": "markdown",
   "metadata": {},
   "source": [
    "### Procura o menor erro"
   ]
  },
  {
   "cell_type": "code",
   "execution_count": 97,
   "metadata": {},
   "outputs": [],
   "source": [
    "def menorErro(sec, fp, bis, nr):\n",
    "    min = sec\n",
    "    metodo = 'Secante'\n",
    "\n",
    "    if fp < min:\n",
    "        min = fp\n",
    "        metodo = 'Falsa Posição'\n",
    "    if bis < min:\n",
    "        min = bis\n",
    "        metodo = 'Bisseção'\n",
    "    if nr < min:\n",
    "        min = nr\n",
    "        metodo = 'Newton Raphson'\n",
    "\n",
    "    return metodo"
   ]
  },
  {
   "cell_type": "markdown",
   "metadata": {},
   "source": [
    "## Letra (a) - Bisseção"
   ]
  },
  {
   "cell_type": "code",
   "execution_count": 98,
   "metadata": {},
   "outputs": [
    {
     "name": "stdout",
     "output_type": "stream",
     "text": [
      "--------- Bisseção ---------\n",
      "Raiz:  2.9375\n",
      "Erro relativo:  0.02127659574468085\n",
      "----------------------------\n"
     ]
    }
   ],
   "source": [
    "a = 2\n",
    "b = 3\n",
    "iteracoes = 4\n",
    "\n",
    "resultadoBis = bissecao(a, b, iteracoes)\n",
    "\n",
    "print('--------- Bisseção ---------')\n",
    "print('Raiz: ', resultadoBis[0])\n",
    "print('Erro relativo: ', resultadoBis[1])\n",
    "print('----------------------------')"
   ]
  },
  {
   "cell_type": "markdown",
   "metadata": {},
   "source": [
    "## Letra (b) - Falsa posição"
   ]
  },
  {
   "cell_type": "code",
   "execution_count": 99,
   "metadata": {},
   "outputs": [
    {
     "name": "stdout",
     "output_type": "stream",
     "text": [
      "------ Falsa Posicao -------\n",
      "Raiz:  1.7633516068658603\n",
      "Erro relativo:  0.0003958926587263289\n",
      "----------------------------\n"
     ]
    }
   ],
   "source": [
    "a = 2\n",
    "b = 3\n",
    "iteracoes = 4\n",
    "\n",
    "resultadoFP = falsaPosicao(a, b, iteracoes)\n",
    "\n",
    "print('------ Falsa Posicao -------')\n",
    "print('Raiz: ', resultadoFP[0])\n",
    "print('Erro relativo: ', resultadoFP[1])\n",
    "print('----------------------------')"
   ]
  },
  {
   "cell_type": "markdown",
   "metadata": {},
   "source": [
    "## Letra (c) - Newton Raphson"
   ]
  },
  {
   "cell_type": "code",
   "execution_count": 100,
   "metadata": {},
   "outputs": [
    {
     "name": "stdout",
     "output_type": "stream",
     "text": [
      "------ Newton Raphson ------\n",
      "Raiz:  1.7632228343518968\n",
      "Erro relativo:  1.8363526009620545e-11\n",
      "----------------------------\n"
     ]
    }
   ],
   "source": [
    "x0 = 2\n",
    "iteracoes = 4\n",
    "\n",
    "resultadoNR = newtonRaphson(x0, iteracoes)\n",
    "\n",
    "print('------ Newton Raphson ------')\n",
    "print('Raiz: ', resultadoNR[0])\n",
    "print('Erro relativo: ', resultadoNR[1])\n",
    "print('----------------------------')"
   ]
  },
  {
   "cell_type": "markdown",
   "metadata": {},
   "source": [
    "## Letra (d) - Secante"
   ]
  },
  {
   "cell_type": "code",
   "execution_count": 101,
   "metadata": {},
   "outputs": [
    {
     "name": "stdout",
     "output_type": "stream",
     "text": [
      "--------- Secante ----------\n",
      "Raiz:  1.763222865738391\n",
      "Erro relativo:  1.8522115307677215e-05\n",
      "----------------------------\n"
     ]
    }
   ],
   "source": [
    "x0 = 2\n",
    "x1 = 3\n",
    "iteracoes = 4\n",
    "\n",
    "resultadoSec = secante(x0, x1, iteracoes)\n",
    "\n",
    "print('--------- Secante ----------')\n",
    "print('Raiz: ', resultadoSec[0])\n",
    "print('Erro relativo: ', resultadoSec[1])\n",
    "print('----------------------------')"
   ]
  },
  {
   "cell_type": "markdown",
   "metadata": {},
   "source": [
    "## Melhor método"
   ]
  },
  {
   "cell_type": "code",
   "execution_count": 102,
   "metadata": {},
   "outputs": [
    {
     "name": "stdout",
     "output_type": "stream",
     "text": [
      "O melhor método foi o: Newton Raphson\n",
      "Teve o menor erro relativo.\n"
     ]
    }
   ],
   "source": [
    "print('O melhor método foi o:', menorErro(resultadoSec[1], resultadoFP[1], resultadoBis[1], resultadoNR[1]))\n",
    "print('Teve o menor erro relativo.')"
   ]
  }
 ],
 "metadata": {
  "kernelspec": {
   "display_name": "Python 3",
   "language": "python",
   "name": "python3"
  },
  "language_info": {
   "codemirror_mode": {
    "name": "ipython",
    "version": 3
   },
   "file_extension": ".py",
   "mimetype": "text/x-python",
   "name": "python",
   "nbconvert_exporter": "python",
   "pygments_lexer": "ipython3",
   "version": "3.8.3"
  }
 },
 "nbformat": 4,
 "nbformat_minor": 4
}
