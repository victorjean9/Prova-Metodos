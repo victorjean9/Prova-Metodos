{
 "cells": [
  {
   "cell_type": "markdown",
   "metadata": {},
   "source": [
    "# Questão 6"
   ]
  },
  {
   "cell_type": "markdown",
   "metadata": {},
   "source": [
    "## Aproxime a $g(x) = αx^{2}$  dos dados da Tabela 2, utilizando para isso o Método dos Mínimos Quadrados."
   ]
  },
  {
   "cell_type": "markdown",
   "metadata": {},
   "source": [
    "| x | -1,000 | -0,750 | -0,600 | -0,500 | -0,300 | 0,000 | 0,200 | 0,400 | 0,500 | 0,700 | 1,000 |\n",
    "| --- | --- | --- | --- | --- | --- | --- | --- | --- | --- | --- | --- |\n",
    "| f(x) | 2,050 | 1,153 | 0,450 | 0,400 | 0,500 | 0,000 | 0,200 | 0,600 | 0,512 | 1,200 | 2,050 |\n",
    "\n",
    "### <div align=\"center\">Tabela 2: Dados.</div>"
   ]
  },
  {
   "cell_type": "code",
   "execution_count": null,
   "metadata": {},
   "outputs": [],
   "source": []
  }
 ],
 "metadata": {
  "kernelspec": {
   "display_name": "Python 3",
   "language": "python",
   "name": "python3"
  },
  "language_info": {
   "codemirror_mode": {
    "name": "ipython",
    "version": 3
   },
   "file_extension": ".py",
   "mimetype": "text/x-python",
   "name": "python",
   "nbconvert_exporter": "python",
   "pygments_lexer": "ipython3",
   "version": "3.8.3"
  }
 },
 "nbformat": 4,
 "nbformat_minor": 4
}
