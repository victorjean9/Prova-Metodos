{
 "cells": [
  {
   "cell_type": "markdown",
   "metadata": {},
   "source": [
    "# Questão 6"
   ]
  },
  {
   "cell_type": "markdown",
   "metadata": {},
   "source": [
    "## Aproxime a $g(x) = αx^{2}$  dos dados da Tabela 2, utilizando para isso o Método dos Mínimos Quadrados."
   ]
  },
  {
   "cell_type": "markdown",
   "metadata": {},
   "source": [
    "| x | -1,000 | -0,750 | -0,600 | -0,500 | -0,300 | 0,000 | 0,200 | 0,400 | 0,500 | 0,700 | 1,000 |\n",
    "| --- | --- | --- | --- | --- | --- | --- | --- | --- | --- | --- | --- |\n",
    "| f(x) | 2,050 | 1,153 | 0,450 | 0,400 | 0,500 | 0,000 | 0,200 | 0,600 | 0,512 | 1,200 | 2,050 |\n",
    "\n",
    "### <div align=\"center\">Tabela 2: Dados.</div>"
   ]
  },
  {
   "cell_type": "code",
   "execution_count": 12,
   "metadata": {},
   "outputs": [],
   "source": [
    "%matplotlib inline\n",
    "import matplotlib.pyplot as plt\n",
    "import scipy.optimize as opt\n",
    "import numpy as np\n",
    "import scipy.linalg as spla\n",
    "import statistics"
   ]
  },
  {
   "cell_type": "code",
   "execution_count": 13,
   "metadata": {},
   "outputs": [
    {
     "name": "stdout",
     "output_type": "stream",
     "text": [
      "[-1.   -0.75 -0.6  -0.5  -0.3   0.    0.2   0.4   0.5   0.7   1.  ]\n",
      "[2.05  1.153 0.45  0.4   0.5   0.    0.2   0.6   0.512 1.2   2.05 ]\n"
     ]
    }
   ],
   "source": [
    "x_sample = np.array([-1.000, -0.750, -0.600, -0.500, -0.300 ,0.000, 0.200, 0.400, 0.500, 0.700, 1.000])\n",
    "y_sample = np.array([2.050, 1.153, 0.450, 0.400, 0.500, 0.000, 0.200, 0.600, 0.512, 1.200, 2.050])\n",
    "\n",
    "print(x_sample)\n",
    "print(y_sample)"
   ]
  },
  {
   "cell_type": "code",
   "execution_count": 19,
   "metadata": {},
   "outputs": [],
   "source": [
    "def mmq(x, y):\n",
    "    g1_x = x\n",
    "    g2_x = np.ones(len(x), dtype=int)\n",
    "    \n",
    "    g1_x_g1_x = g1_x**2\n",
    "    g1_x_g2_x = g1_x * g2_x\n",
    "    g2_x_g1_x = g2_x * g1_x\n",
    "    g2_x_g2_x = g2_x**2\n",
    "    \n",
    "    f_x_g1_x = y * g1_x\n",
    "    f_x_g2_x = y * g2_x\n",
    "    \n",
    "    soma_g1_x_g1_x = np.sum(g1_x_g1_x)\n",
    "    soma_g1_x_g2_x = np.sum(g1_x_g2_x)\n",
    "    soma_g2_x_g1_x = np.sum(g2_x_g1_x)\n",
    "    soma_g2_x_g2_x = np.sum(g2_x_g2_x)\n",
    "    soma_f_x_g1_x = np.sum(f_x_g1_x)\n",
    "    soma_f_x_g2_x = np.sum(f_x_g2_x)\n",
    "    \n",
    "    Matriz_A = np.matrix([\n",
    "                            [soma_g1_x_g1_x, soma_g1_x_g2_x],\n",
    "                            [soma_g2_x_g1_x, soma_g2_x_g2_x]\n",
    "                         ])\n",
    "    Vetor_B = np.array([soma_f_x_g1_x, soma_f_x_g2_x])\n",
    "    \n",
    "    aux_A00 = Matriz_A[0,0] / Matriz_A[0,0]\n",
    "    aux_A01 = Matriz_A[0,1] / Matriz_A[0,0]\n",
    "    aux_B = Vetor_B[0] / Matriz_A[0,0]\n",
    "    \n",
    "    aux1 = Matriz_A[1,0] - Matriz_A[1,0] * aux_A00\n",
    "    aux2 = Matriz_A[1,1] - Matriz_A[1,0] * aux_A01\n",
    "    aux3 = Vetor_B[1] - Matriz_A[1,0] * aux_B\n",
    "    \n",
    "    b = aux3 / aux2\n",
    "    a = aux_B - (b * aux_A01)\n",
    "    \n",
    "    return(a, b)"
   ]
  },
  {
   "cell_type": "code",
   "execution_count": 20,
   "metadata": {},
   "outputs": [
    {
     "data": {
      "image/png": "[encoded data removed]",
      "text/plain": [
       "<Figure size 1200x800 with 1 Axes>"
      ]
     },
     "metadata": {
      "needs_background": "light"
     },
     "output_type": "display_data"
    }
   ],
   "source": [
    "a,b = mmq(x_sample, y_sample)\n",
    "\n",
    "fig = plt.figure(figsize=(12,8), dpi= 100)\n",
    "ax = plt.axes()\n",
    "x = x_sample\n",
    "y = a*x+b\n",
    "\n",
    "plt.plot(x_sample, y_sample, 'o', color='black');\n",
    "plt.plot(x, y, color='blue');\n",
    "\n",
    "plt.grid()\n",
    "plt.show()"
   ]
  },
  {
   "cell_type": "code",
   "execution_count": null,
   "metadata": {},
   "outputs": [],
   "source": []
  }
 ],
 "metadata": {
  "kernelspec": {
   "display_name": "Python 3",
   "language": "python",
   "name": "python3"
  },
  "language_info": {
   "codemirror_mode": {
    "name": "ipython",
    "version": 3
   },
   "file_extension": ".py",
   "mimetype": "text/x-python",
   "name": "python",
   "nbconvert_exporter": "python",
   "pygments_lexer": "ipython3",
   "version": "3.8.3"
  }
 },
 "nbformat": 4,
 "nbformat_minor": 4
}
