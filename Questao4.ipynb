{
 "cells": [
  {
   "cell_type": "markdown",
   "metadata": {},
   "source": [
    "# Questão 4"
   ]
  },
  {
   "cell_type": "markdown",
   "metadata": {},
   "source": [
    "## De um velocímetro de um automóvel foram obtidos as seguintes leituras de velocidade instantânea:"
   ]
  },
  {
   "cell_type": "markdown",
   "metadata": {},
   "source": [
    "| t(minutos) | 0 | 5 | 10 | 15 | 20 |\n",
    "| --- | --- | --- | --- | --- | --- |\n",
    "| v(km/h) | 0 | 27 | 27 | 54 | 54 |\n",
    "\n",
    "### <div align=\"center\">Tabela 1: Tabela de instantes de tempo de velocidades instantâneas.</div>"
   ]
  },
  {
   "cell_type": "markdown",
   "metadata": {},
   "source": [
    "## Considerando a Tabela 1, calcule a aproximação pelo Métodos dos Mínimos Quadrados pela função $g(x) = αx + β$. Em seguida, ache o polinômio interpolador $p(x)$ usando sistema linear para o mesmo conjunto de pontos (Tabela 1). Por fim, compare o resultado de $g(x = 7)$ e $p(x = 7)$, veja qual deles mais se aproxima dos dados e justifique a resposta."
   ]
  },
  {
   "cell_type": "code",
   "execution_count": null,
   "metadata": {},
   "outputs": [],
   "source": []
  }
 ],
 "metadata": {
  "kernelspec": {
   "display_name": "Python 3",
   "language": "python",
   "name": "python3"
  },
  "language_info": {
   "codemirror_mode": {
    "name": "ipython",
    "version": 3
   },
   "file_extension": ".py",
   "mimetype": "text/x-python",
   "name": "python",
   "nbconvert_exporter": "python",
   "pygments_lexer": "ipython3",
   "version": "3.8.3"
  }
 },
 "nbformat": 4,
 "nbformat_minor": 4
}
