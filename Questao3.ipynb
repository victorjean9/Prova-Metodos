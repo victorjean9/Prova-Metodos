{
 "cells": [
  {
   "cell_type": "markdown",
   "metadata": {},
   "source": [
    "# Questão 3"
   ]
  },
  {
   "cell_type": "markdown",
   "metadata": {},
   "source": [
    "## Ache o zero da função para $f(x) = x^{3} - x -1$, utilizando o $x_{0} = 0$ para o Método de Newton-Raphson e $x_{0} = 0$, $x^{1} = 0.5$ para o Método da Secante. Em ambos os métodos, considere o erro $e = 1 * 10^{-6}$ e indique qual método convergiu mais rápido."
   ]
  },
  {
   "cell_type": "code",
   "execution_count": 24,
   "metadata": {},
   "outputs": [],
   "source": [
    "import numpy as np\n",
    "import math"
   ]
  },
  {
   "cell_type": "markdown",
   "metadata": {},
   "source": [
    "### Função $f(x)$"
   ]
  },
  {
   "cell_type": "code",
   "execution_count": 25,
   "metadata": {},
   "outputs": [],
   "source": [
    "def funcao(x):\n",
    "  return math.pow(x,3)-x-1"
   ]
  },
  {
   "cell_type": "markdown",
   "metadata": {},
   "source": [
    "### Função para calcular a derivada de $f(x)$"
   ]
  },
  {
   "cell_type": "code",
   "execution_count": 26,
   "metadata": {},
   "outputs": [],
   "source": [
    "def funcaoLinha(x):\n",
    "  return (3*(x*x))-1"
   ]
  },
  {
   "cell_type": "markdown",
   "metadata": {},
   "source": [
    "### Cálculo do zero da função usando o método da secante"
   ]
  },
  {
   "cell_type": "code",
   "execution_count": 27,
   "metadata": {},
   "outputs": [],
   "source": [
    "def secante(x0, x1, erroMax):\n",
    "  iteracao = 0\n",
    "  aux1 = x0\n",
    "  x = x1\n",
    "  erro = 1\n",
    "\n",
    "  while(erro >= erroMax):\n",
    "    aux2 = aux1\n",
    "    aux1 = x\n",
    "    x = aux1 - funcao(aux1)*(aux2 - aux1)/(funcao(aux2) - funcao(aux1))\n",
    "    erro = np.abs((x - aux1)/x) #calculo do erro relativo\n",
    "    \n",
    "    iteracao = iteracao + 1\n",
    "\n",
    "  return (x, erro, iteracao)"
   ]
  },
  {
   "cell_type": "markdown",
   "metadata": {},
   "source": [
    "### Cálculo do zero da função usando o método de Newton Raphson"
   ]
  },
  {
   "cell_type": "code",
   "execution_count": 28,
   "metadata": {},
   "outputs": [],
   "source": [
    "def newtonRaphson(x0, erroMax):\n",
    "  iteracao = 0\n",
    "  erro = 1\n",
    "\n",
    "  while(erro >= erroMax):   \n",
    "    temp = x0 \n",
    "    aux = x0 - funcao(x0)/funcaoLinha(x0)\n",
    "    x0 = aux\n",
    "\n",
    "    erro = np.abs((x0 - temp)/x0) #calculo do erro relativo\n",
    "\n",
    "    iteracao = iteracao + 1\n",
    "    \n",
    "  return (x0, erro, iteracao)"
   ]
  },
  {
   "cell_type": "markdown",
   "metadata": {},
   "source": [
    "### Newton-Raphson - Resposta"
   ]
  },
  {
   "cell_type": "code",
   "execution_count": 29,
   "metadata": {},
   "outputs": [
    {
     "name": "stdout",
     "output_type": "stream",
     "text": [
      "------ Newton Raphson ------\n",
      "Raiz:  1.3247179572453902\n",
      "Erro relativo:  6.275825449502182e-07\n",
      "Iteracoes:  21\n"
     ]
    }
   ],
   "source": [
    "x0 = 0\n",
    "erro = math.pow(10,-6)\n",
    "\n",
    "resultadoNR = newtonRaphson(x0, erro)\n",
    "print('------ Newton Raphson ------')\n",
    "print('Raiz: ', resultadoNR[0])\n",
    "print('Erro relativo: ', resultadoNR[1])\n",
    "print('Iteracoes: ', resultadoNR[2])"
   ]
  },
  {
   "cell_type": "markdown",
   "metadata": {},
   "source": [
    "### Secante - Resposta"
   ]
  },
  {
   "cell_type": "code",
   "execution_count": 30,
   "metadata": {},
   "outputs": [
    {
     "name": "stdout",
     "output_type": "stream",
     "text": [
      "--------- Secante ----------\n",
      "Raiz:  1.324717957244859\n",
      "Erro relativo:  7.683287024624858e-09\n",
      "Iteracoes:  27\n"
     ]
    }
   ],
   "source": [
    "x0 = 0\n",
    "x1 = 0.5\n",
    "erro = math.pow(10,-6)\n",
    "\n",
    "resultadoSec = secante(x0, x1, erro)\n",
    "\n",
    "print('--------- Secante ----------')\n",
    "print('Raiz: ', resultadoSec[0])\n",
    "print('Erro relativo: ', resultadoSec[1])\n",
    "print('Iteracoes: ', resultadoSec[2])"
   ]
  },
  {
   "cell_type": "markdown",
   "metadata": {},
   "source": [
    "### Verificação de qual método convergiu mais rapido"
   ]
  },
  {
   "cell_type": "code",
   "execution_count": 31,
   "metadata": {},
   "outputs": [
    {
     "name": "stdout",
     "output_type": "stream",
     "text": [
      "O Método de Newton Raphson convergiu mais rápido\n"
     ]
    }
   ],
   "source": [
    "if resultadoSec[2] > resultadoNR[2]:\n",
    "  print ('O Método de Newton Raphson convergiu mais rápido')\n",
    "else:\n",
    "  print ('O Método da Secante convergiu mais rápido')"
   ]
  }
 ],
 "metadata": {
  "kernelspec": {
   "display_name": "Python 3",
   "language": "python",
   "name": "python3"
  },
  "language_info": {
   "codemirror_mode": {
    "name": "ipython",
    "version": 3
   },
   "file_extension": ".py",
   "mimetype": "text/x-python",
   "name": "python",
   "nbconvert_exporter": "python",
   "pygments_lexer": "ipython3",
   "version": "3.8.3"
  }
 },
 "nbformat": 4,
 "nbformat_minor": 4
}
