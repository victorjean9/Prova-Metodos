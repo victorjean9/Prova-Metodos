{
 "cells": [
  {
   "cell_type": "markdown",
   "metadata": {},
   "source": [
    "# Questão 5"
   ]
  },
  {
   "cell_type": "markdown",
   "metadata": {},
   "source": [
    "## Explique a diferença entre erro absoluto e erro relativo, o que representam e como o erro relativo é obtido em problemas que a solução exata não é conhecida, cite um exemplo de problema que a solução exata não é conhecida."
   ]
  },
  {
   "cell_type": "markdown",
   "metadata": {},
   "source": [
    "### Erro absoluto:"
   ]
  },
  {
   "cell_type": "markdown",
   "metadata": {},
   "source": [
    "Erro absoluto é a diferença entre o valor exato de um número x e seu valor aproximado x."
   ]
  },
  {
   "cell_type": "markdown",
   "metadata": {},
   "source": [
    "Em geral, não se conhece o valor exato x, o que impossibilita o cálculo do erro absoluto.\n",
    "Nestes casos, avalia-se um limitante superior ou uma aproximação para o módulo do erro.\n",
    "O erro absoluto não permite uma avaliação da precisão entre dois resultados de forma correta."
   ]
  },
  {
   "cell_type": "markdown",
   "metadata": {},
   "source": [
    "Erro absoluto é a diferença entre o valor exato (x) de um número e o seu valor aproximado ($\\bar{x}$):\n",
    "<div align=\"center\">$EA_{x} = x - \\bar{x}$</div>"
   ]
  },
  {
   "cell_type": "markdown",
   "metadata": {},
   "source": [
    "### Erro relativo:"
   ]
  },
  {
   "cell_type": "markdown",
   "metadata": {},
   "source": [
    "O erro relativo leva em consideração as dimensões dos valores em análise e pode ser calculado através da expressão."
   ]
  },
  {
   "cell_type": "markdown",
   "metadata": {},
   "source": [
    "Erro relativo é definido como o erro absoluto dividido pelo erro aproximado:\n",
    "<div align=\"center\">$ER_{x} = EA_{x}/x = \\dfrac{x - \\bar{x}}{x}$</div>"
   ]
  },
  {
   "cell_type": "markdown",
   "metadata": {},
   "source": [
    "**Se o valor exato de x não é conhecido**, então utiliza-se de erro entre as aproximações:\n",
    "<div align=\"center\">$e = \\dfrac{|x_{novo} - x_{antigo}|}{|x_{novo}|}$</div>"
   ]
  },
  {
   "cell_type": "markdown",
   "metadata": {},
   "source": [
    "**Exemplo:** O valor real de pi."
   ]
  }
 ],
 "metadata": {
  "kernelspec": {
   "display_name": "Python 3",
   "language": "python",
   "name": "python3"
  },
  "language_info": {
   "codemirror_mode": {
    "name": "ipython",
    "version": 3
   },
   "file_extension": ".py",
   "mimetype": "text/x-python",
   "name": "python",
   "nbconvert_exporter": "python",
   "pygments_lexer": "ipython3",
   "version": "3.8.3"
  }
 },
 "nbformat": 4,
 "nbformat_minor": 4
}
