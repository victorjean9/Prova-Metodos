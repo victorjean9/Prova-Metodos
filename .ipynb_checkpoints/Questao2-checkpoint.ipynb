{
 "cells": [
  {
   "cell_type": "markdown",
   "metadata": {},
   "source": [
    "# Questão 2"
   ]
  },
  {
   "cell_type": "markdown",
   "metadata": {},
   "source": [
    "## Ache o zero da função$f(x) = 4xen(x) - e^{x}$, utilizando apenas 7 interações para cada um dos métodos abaixo. Após obter o valor aproximado, compare o erro entre os métodos e indique qual método obteve o melhor resultado. Justifique a resposta."
   ]
  },
  {
   "cell_type": "code",
   "execution_count": 16,
   "metadata": {},
   "outputs": [],
   "source": [
    "import numpy as np\n",
    "import math"
   ]
  },
  {
   "cell_type": "markdown",
   "metadata": {},
   "source": [
    "### Função $f(x)$"
   ]
  },
  {
   "cell_type": "code",
   "execution_count": 17,
   "metadata": {},
   "outputs": [],
   "source": [
    "def funcao(x):\n",
    "  return (4*math.sin(x))-math.exp(x)"
   ]
  },
  {
   "cell_type": "markdown",
   "metadata": {},
   "source": [
    "### Função derivada de $f(x)$"
   ]
  },
  {
   "cell_type": "code",
   "execution_count": 18,
   "metadata": {},
   "outputs": [],
   "source": [
    "def funcaoLinha(x):\n",
    "  return (4*math.cos(x))-math.exp(x)"
   ]
  },
  {
   "cell_type": "markdown",
   "metadata": {},
   "source": [
    "### Cálculo do zero da função usando o método da Bisseção"
   ]
  },
  {
   "cell_type": "code",
   "execution_count": 19,
   "metadata": {},
   "outputs": [],
   "source": [
    "def bissecao(a, b, iteracoes):\n",
    "  iteracao = 0\n",
    "  x = a\n",
    "\n",
    "  while(iteracao < iteracoes):\n",
    "    aux = x\n",
    "    x = (a+b)/2\n",
    "    nAbsoluto = (x - aux)/x\n",
    "    erro = np.abs(nAbsoluto) #calculo do erro absoluto\n",
    "\n",
    "    if (funcao(a)*funcao(x) < 0):\n",
    "      b = x\n",
    "    else:\n",
    "      a = x\n",
    "\n",
    "    iteracao = iteracao + 1\n",
    "    \n",
    "  return (x, erro)"
   ]
  },
  {
   "cell_type": "markdown",
   "metadata": {},
   "source": [
    "### Cálculo do zero da função usando o método da falsa posição"
   ]
  },
  {
   "cell_type": "code",
   "execution_count": 20,
   "metadata": {},
   "outputs": [],
   "source": [
    "def falsaPosicao(a, b, iteracoes):\n",
    "  iteracao = 0\n",
    "  x = a\n",
    "\n",
    "  while(iteracao < iteracoes):\n",
    "    aux = x\n",
    "    x = a - funcao(a)*(b-a)/(funcao(b)-funcao(a))\n",
    "\n",
    "    nAbsoluto = (x - aux)/x\n",
    "    erro = np.abs(nAbsoluto) #calculo do erro absoluto\n",
    "\n",
    "    if (funcao(a)*funcao(x) < 0):\n",
    "      b = x\n",
    "    else:\n",
    "      a = x\n",
    "\n",
    "    iteracao = iteracao + 1\n",
    "\n",
    "  return (x, erro)"
   ]
  },
  {
   "cell_type": "markdown",
   "metadata": {},
   "source": [
    "### Cálculo do zero da função usando o método de Newton Raphson"
   ]
  },
  {
   "cell_type": "code",
   "execution_count": 21,
   "metadata": {},
   "outputs": [],
   "source": [
    "def newtonRaphson(x0, iteracoes):\n",
    "  iteracao = 0\n",
    "\n",
    "  while(iteracao < iteracoes):   \n",
    "    temp = x0 \n",
    "    aux = x0 - funcao(x0)/funcaoLinha(x0)\n",
    "    x0 = aux\n",
    "\n",
    "    erro = np.abs((x0 - temp)/x0) #calculo do erro absoluto\n",
    "\n",
    "    iteracao = iteracao + 1\n",
    "    \n",
    "  return (x0, erro)"
   ]
  },
  {
   "cell_type": "markdown",
   "metadata": {},
   "source": [
    "### Cálculo do zero da função usando o método da secante"
   ]
  },
  {
   "cell_type": "code",
   "execution_count": 29,
   "metadata": {},
   "outputs": [],
   "source": [
    "def secante(x0, x1, iteracoes):\n",
    "  iteracao = 0\n",
    "  aux1 = x0\n",
    "  x = x1\n",
    "  \n",
    "  while(iteracao < iteracoes):\n",
    "    aux2 = aux1\n",
    "    aux1 = x\n",
    "    x = aux1 - funcao(aux1)*(aux2 - aux1)/(funcao(aux2) - funcao(aux1))\n",
    "    erro = np.abs((x - aux1)/x) #calculo do erro absoluto\n",
    "    \n",
    "    iteracao = iteracao + 1\n",
    "\n",
    "  return (x, erro)"
   ]
  },
  {
   "cell_type": "markdown",
   "metadata": {},
   "source": [
    "### Procura o menor erro"
   ]
  },
  {
   "cell_type": "code",
   "execution_count": 22,
   "metadata": {},
   "outputs": [],
   "source": [
    "def menorErro(sec, fp, bis, nr):\n",
    "    min = sec\n",
    "    metodo = 'Secante'\n",
    "\n",
    "    if fp < min:\n",
    "        min = fp\n",
    "        metodo = 'Falsa Posicao'\n",
    "    if bis < min:\n",
    "        min = bis\n",
    "        metodo = 'Bisseção'\n",
    "    if nr < min:\n",
    "        min = nr\n",
    "        metodo = 'Newton Raphson'\n",
    "\n",
    "    return metodo"
   ]
  },
  {
   "cell_type": "markdown",
   "metadata": {},
   "source": [
    "## Letra (a) - Bisseção"
   ]
  },
  {
   "cell_type": "code",
   "execution_count": 33,
   "metadata": {},
   "outputs": [
    {
     "name": "stdout",
     "output_type": "stream",
     "text": [
      "--------- Bisseção ---------\n",
      "Raiz:  0.3671875\n",
      "Erro relativo:  0.02127659574468085\n",
      "----------------------------\n"
     ]
    }
   ],
   "source": [
    "a = 0\n",
    "b = 1\n",
    "iteracoes = 7\n",
    "\n",
    "resultadoBis = bissecao(a, b, iteracoes)\n",
    "\n",
    "print('--------- Bisseção ---------')\n",
    "print('Raiz: ', resultadoBis[0])\n",
    "print('Erro relativo: ', resultadoBis[1])\n",
    "print('----------------------------')"
   ]
  },
  {
   "cell_type": "markdown",
   "metadata": {},
   "source": [
    "## Letra (b) - Falsa Posição"
   ]
  },
  {
   "cell_type": "code",
   "execution_count": 34,
   "metadata": {},
   "outputs": [
    {
     "name": "stdout",
     "output_type": "stream",
     "text": [
      "------ Falsa Posicao -------\n",
      "Raiz:  0.3705628166564785\n",
      "Erro relativo:  6.937075841407686e-05\n",
      "----------------------------\n"
     ]
    }
   ],
   "source": [
    "a = 0\n",
    "b = 1\n",
    "iteracoes = 7\n",
    "\n",
    "resultadoFP = falsaPosicao(a, b, iteracoes)\n",
    "\n",
    "print('------ Falsa Posicao -------')\n",
    "print('Raiz: ', resultadoFP[0])\n",
    "print('Erro relativo: ', resultadoFP[1])\n",
    "print('----------------------------')"
   ]
  },
  {
   "cell_type": "markdown",
   "metadata": {},
   "source": [
    "## Letra (c) - Newton-Raphson"
   ]
  },
  {
   "cell_type": "code",
   "execution_count": 35,
   "metadata": {},
   "outputs": [
    {
     "name": "stdout",
     "output_type": "stream",
     "text": [
      "------ Newton Raphson ------\n",
      "Raiz:  0.3705580959698246\n",
      "Erro relativo:  2.996083574208468e-16\n",
      "----------------------------\n"
     ]
    }
   ],
   "source": [
    "x0 = 0.5\n",
    "iteracoes = 7\n",
    "\n",
    "resultadoNR = newtonRaphson(x0, iteracoes)\n",
    "\n",
    "print('------ Newton Raphson ------')\n",
    "print('Raiz: ', resultadoNR[0])\n",
    "print('Erro relativo: ', resultadoNR[1])\n",
    "print('----------------------------')"
   ]
  },
  {
   "cell_type": "markdown",
   "metadata": {},
   "source": [
    "## Letra (d) - Secante"
   ]
  },
  {
   "cell_type": "code",
   "execution_count": 36,
   "metadata": {},
   "outputs": [
    {
     "name": "stdout",
     "output_type": "stream",
     "text": [
      "--------- Secante ----------\n",
      "Raiz:  0.3705580982770991\n",
      "Erro relativo:  1.5491874080180083e-05\n",
      "----------------------------\n"
     ]
    }
   ],
   "source": [
    "x0 = 0\n",
    "x1 = 1\n",
    "iteracoes = 7\n",
    "\n",
    "resultadoSec = secante(x0, x1, iteracoes)\n",
    "\n",
    "print('--------- Secante ----------')\n",
    "print('Raiz: ', resultadoSec[0])\n",
    "print('Erro relativo: ', resultadoSec[1])\n",
    "print('----------------------------')"
   ]
  },
  {
   "cell_type": "markdown",
   "metadata": {},
   "source": [
    "## Melhor método"
   ]
  },
  {
   "cell_type": "code",
   "execution_count": 37,
   "metadata": {},
   "outputs": [
    {
     "name": "stdout",
     "output_type": "stream",
     "text": [
      "O melhor método foi o: Newton Raphson\n",
      "Teve o menor erro absoluto.\n"
     ]
    }
   ],
   "source": [
    "print('O melhor método foi o:', menorErro(resultadoSec[1], resultadoFP[1], resultadoBis[1], resultadoNR[1]))\n",
    "print('Teve o menor erro absoluto.')"
   ]
  }
 ],
 "metadata": {
  "kernelspec": {
   "display_name": "Python 3",
   "language": "python",
   "name": "python3"
  },
  "language_info": {
   "codemirror_mode": {
    "name": "ipython",
    "version": 3
   },
   "file_extension": ".py",
   "mimetype": "text/x-python",
   "name": "python",
   "nbconvert_exporter": "python",
   "pygments_lexer": "ipython3",
   "version": "3.8.3"
  }
 },
 "nbformat": 4,
 "nbformat_minor": 4
}
